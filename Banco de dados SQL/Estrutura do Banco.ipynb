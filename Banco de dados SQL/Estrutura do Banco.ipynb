{
 "cells": [
  {
   "cell_type": "code",
   "execution_count": 1,
   "id": "fcc3038d",
   "metadata": {},
   "outputs": [],
   "source": [
    "import os"
   ]
  },
  {
   "cell_type": "code",
   "execution_count": 2,
   "id": "69af150f",
   "metadata": {},
   "outputs": [],
   "source": [
    "os.remove(\"jogodia20.db\") if os.path.exists(\"jogodia20.db\") else None"
   ]
  },
  {
   "cell_type": "code",
   "execution_count": 3,
   "id": "d55e6aa1",
   "metadata": {},
   "outputs": [],
   "source": [
    "import sqlite3"
   ]
  },
  {
   "cell_type": "code",
   "execution_count": 8,
   "id": "376c8c08",
   "metadata": {},
   "outputs": [],
   "source": [
    "con = sqlite3.connect(\"C:jogodia20\")"
   ]
  },
  {
   "cell_type": "code",
   "execution_count": 9,
   "id": "82eeaf38",
   "metadata": {},
   "outputs": [
    {
     "data": {
      "text/plain": [
       "sqlite3.Connection"
      ]
     },
     "execution_count": 9,
     "metadata": {},
     "output_type": "execute_result"
    }
   ],
   "source": [
    "type (con)"
   ]
  },
  {
   "cell_type": "code",
   "execution_count": 10,
   "id": "68e78796",
   "metadata": {},
   "outputs": [],
   "source": [
    "cur = con.cursor()"
   ]
  },
  {
   "cell_type": "code",
   "execution_count": 11,
   "id": "ddd80bd7",
   "metadata": {},
   "outputs": [
    {
     "data": {
      "text/plain": [
       "sqlite3.Cursor"
      ]
     },
     "execution_count": 11,
     "metadata": {},
     "output_type": "execute_result"
    }
   ],
   "source": [
    "type(cur)"
   ]
  },
  {
   "cell_type": "code",
   "execution_count": 12,
   "id": "4ddf3503",
   "metadata": {},
   "outputs": [],
   "source": [
    "sql_create = 'create table deve'\\\n",
    "'(nome varchar(100), '\\\n",
    "'veio varchar(10), '\\\n",
    "'bebeu varchar(11), '\\\n",
    "'comeu varchar(12), '\\\n",
    "'valor integer)'\n"
   ]
  },
  {
   "cell_type": "code",
   "execution_count": 13,
   "id": "07519c44",
   "metadata": {},
   "outputs": [
    {
     "data": {
      "text/plain": [
       "<sqlite3.Cursor at 0x1c6717b36c0>"
      ]
     },
     "execution_count": 13,
     "metadata": {},
     "output_type": "execute_result"
    }
   ],
   "source": [
    "cur.execute(sql_create)"
   ]
  },
  {
   "cell_type": "code",
   "execution_count": 14,
   "id": "b89ff09b",
   "metadata": {},
   "outputs": [],
   "source": [
    "sql_insert = 'insert into deve values (?, ?, ?, ?, ?)'"
   ]
  },
  {
   "cell_type": "code",
   "execution_count": 15,
   "id": "b365bb83",
   "metadata": {},
   "outputs": [],
   "source": [
    "recset = [('Gomes', 'SIM', 'SIM', 'SIM', 30), \n",
    "         ('Marcelo', 'SIM', 'SIM', 'SIM', 30),\n",
    "         ('Ricardo', 'SIM', 'SIM', 'SIM', 30),\n",
    "         ('Torugo', 'SIM', 'NAO', 'SIM', 10),\n",
    "         ('Vinicius', 'SIM', 'SIM', 'SIM', 30),\n",
    "         ('Josue', 'SIM', 'NAO', 'SIM', 10)]"
   ]
  },
  {
   "cell_type": "code",
   "execution_count": 16,
   "id": "698cc10e",
   "metadata": {},
   "outputs": [],
   "source": [
    "for rec in recset:\n",
    "    cur.execute(sql_insert, rec)"
   ]
  },
  {
   "cell_type": "code",
   "execution_count": 17,
   "id": "b6dc5dd1",
   "metadata": {},
   "outputs": [],
   "source": [
    "con.commit()"
   ]
  },
  {
   "cell_type": "code",
   "execution_count": 18,
   "id": "d4b216cc",
   "metadata": {},
   "outputs": [],
   "source": [
    "sql_select = 'select * from deve'"
   ]
  },
  {
   "cell_type": "code",
   "execution_count": 19,
   "id": "a1a40060",
   "metadata": {},
   "outputs": [],
   "source": [
    "cur.execute(sql_select)\n",
    "dados = cur.fetchall()"
   ]
  },
  {
   "cell_type": "code",
   "execution_count": 20,
   "id": "ade1ee6c",
   "metadata": {},
   "outputs": [
    {
     "name": "stdout",
     "output_type": "stream",
     "text": [
      "Nome: Gomes, Veio: SIM, Bebeu: SIM, Comeu: SIM, Pagar: 30 \n",
      "\n",
      "Nome: Marcelo, Veio: SIM, Bebeu: SIM, Comeu: SIM, Pagar: 30 \n",
      "\n",
      "Nome: Ricardo, Veio: SIM, Bebeu: SIM, Comeu: SIM, Pagar: 30 \n",
      "\n",
      "Nome: Torugo, Veio: SIM, Bebeu: NAO, Comeu: SIM, Pagar: 10 \n",
      "\n",
      "Nome: Vinicius, Veio: SIM, Bebeu: SIM, Comeu: SIM, Pagar: 30 \n",
      "\n",
      "Nome: Josue, Veio: SIM, Bebeu: NAO, Comeu: SIM, Pagar: 10 \n",
      "\n"
     ]
    }
   ],
   "source": [
    "for linha in dados:\n",
    "    print('Nome: %s, Veio: %s, Bebeu: %s, Comeu: %s, Pagar: %d \\n' % linha)"
   ]
  },
  {
   "cell_type": "code",
   "execution_count": 21,
   "id": "70bf8a31",
   "metadata": {},
   "outputs": [],
   "source": [
    "con.commit()"
   ]
  },
  {
   "cell_type": "code",
   "execution_count": 22,
   "id": "db669f20",
   "metadata": {},
   "outputs": [],
   "source": [
    "con.close()"
   ]
  },
  {
   "cell_type": "code",
   "execution_count": null,
   "id": "6556d035",
   "metadata": {},
   "outputs": [],
   "source": []
  }
 ],
 "metadata": {
  "kernelspec": {
   "display_name": "Python 3 (ipykernel)",
   "language": "python",
   "name": "python3"
  },
  "language_info": {
   "codemirror_mode": {
    "name": "ipython",
    "version": 3
   },
   "file_extension": ".py",
   "mimetype": "text/x-python",
   "name": "python",
   "nbconvert_exporter": "python",
   "pygments_lexer": "ipython3",
   "version": "3.9.12"
  }
 },
 "nbformat": 4,
 "nbformat_minor": 5
}
